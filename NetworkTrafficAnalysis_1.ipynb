{
  "nbformat": 4,
  "nbformat_minor": 0,
  "metadata": {
    "colab": {
      "provenance": []
    },
    "kernelspec": {
      "name": "python3",
      "display_name": "Python 3"
    },
    "language_info": {
      "name": "python"
    }
  },
  "cells": [
    {
      "cell_type": "code",
      "execution_count": null,
      "metadata": {
        "id": "7JnF_-rjS8NV"
      },
      "outputs": [],
      "source": [
        "import pandas as pd\n",
        "import numpy as np\n",
        "from sklearn.preprocessing import LabelEncoder\n",
        "from scipy.ndimage import convolve1d"
      ]
    },
    {
      "cell_type": "code",
      "source": [
        "import seaborn as sns\n",
        "import matplotlib.pyplot as plt\n",
        "from sklearn.model_selection import train_test_split\n",
        "from sklearn.tree import DecisionTreeClassifier\n",
        "from sklearn.ensemble import RandomForestClassifier # Corrected import\n",
        "from sklearn.metrics import accuracy_score, classification_report, confusion_matrix"
      ],
      "metadata": {
        "id": "f88XW47iruOJ"
      },
      "execution_count": null,
      "outputs": []
    },
    {
      "cell_type": "code",
      "source": [
        "import joblib\n",
        "from sklearn.model_selection import cross_val_score\n",
        "import matplotlib.pyplot as plt"
      ],
      "metadata": {
        "id": "Pl-vpS354FER"
      },
      "execution_count": null,
      "outputs": []
    },
    {
      "cell_type": "code",
      "source": [
        "df = pd.read_csv(\"/content/CTU-IoT-Malware-Capture-1-1conn.log.labeled.csv\",\n",
        "                     sep='|',\n",
        "                     on_bad_lines='skip',\n",
        "                     header=None # Add this line to indicate no header row\n",
        "                    )\n",
        "print(\"Dataset loaded successfully.\")\n",
        "\n",
        "# Assign column names based on the dataset's documentation\n",
        "df.columns = [\n",
        "        'ts', 'uid', 'id.orig_h', 'id.orig_p', 'id.resp_h', 'id.resp_p',\n",
        "        'proto', 'service', 'duration', 'orig_bytes', 'resp_bytes', 'conn_state',\n",
        "        'local_orig', 'local_resp', 'missed_bytes', 'history', 'orig_pkts',\n",
        "        'orig_ip_bytes', 'resp_pkts', 'resp_ip_bytes', 'tunnel_parents', 'label',\n",
        "        'detailed-label'\n",
        "    ]"
      ],
      "metadata": {
        "colab": {
          "base_uri": "https://localhost:8080/"
        },
        "id": "VIlVHm7ZTCyA",
        "outputId": "36db40cb-5fdf-4229-e544-b6e564b5f13f"
      },
      "execution_count": null,
      "outputs": [
        {
          "output_type": "stream",
          "name": "stdout",
          "text": [
            "Dataset loaded successfully.\n"
          ]
        },
        {
          "output_type": "stream",
          "name": "stderr",
          "text": [
            "/tmp/ipython-input-1416481273.py:1: DtypeWarning: Columns (0,3,5,14,16,17,18,19) have mixed types. Specify dtype option on import or set low_memory=False.\n",
            "  df = pd.read_csv(\"/content/CTU-IoT-Malware-Capture-1-1conn.log.labeled.csv\",\n"
          ]
        }
      ]
    },
    {
      "cell_type": "code",
      "source": [
        "df.shape"
      ],
      "metadata": {
        "colab": {
          "base_uri": "https://localhost:8080/"
        },
        "id": "zBpD-etUZPuv",
        "outputId": "4aa94f4b-40e0-4344-8758-28d996adc10e"
      },
      "execution_count": null,
      "outputs": [
        {
          "output_type": "execute_result",
          "data": {
            "text/plain": [
              "(257864, 23)"
            ]
          },
          "metadata": {},
          "execution_count": 33
        }
      ]
    },
    {
      "cell_type": "code",
      "source": [
        "print(df.columns.tolist())"
      ],
      "metadata": {
        "colab": {
          "base_uri": "https://localhost:8080/"
        },
        "id": "L40w6AgYmbqd",
        "outputId": "dd45b37f-8f72-4a43-ff0a-6c2d3e9b8d6e"
      },
      "execution_count": null,
      "outputs": [
        {
          "output_type": "stream",
          "name": "stdout",
          "text": [
            "['ts', 'uid', 'id.orig_h', 'id.orig_p', 'id.resp_h', 'id.resp_p', 'proto', 'service', 'duration', 'orig_bytes', 'resp_bytes', 'conn_state', 'local_orig', 'local_resp', 'missed_bytes', 'history', 'orig_pkts', 'orig_ip_bytes', 'resp_pkts', 'resp_ip_bytes', 'tunnel_parents', 'label', 'detailed-label']\n"
          ]
        }
      ]
    },
    {
      "cell_type": "code",
      "source": [
        "print(df['tunnel_parents'].unique())\n"
      ],
      "metadata": {
        "colab": {
          "base_uri": "https://localhost:8080/"
        },
        "id": "HKAsJkDWoSLj",
        "outputId": "1f6ff2a2-dfc1-4492-bfa8-ae1087031516"
      },
      "execution_count": null,
      "outputs": [
        {
          "output_type": "stream",
          "name": "stdout",
          "text": [
            "['tunnel_parents' '-' nan]\n"
          ]
        }
      ]
    },
    {
      "cell_type": "code",
      "source": [
        "print(\"\\n--- Cleaning Data ---\")\n",
        "# Replace placeholder '-' with 0 for simplicity.\n",
        "df.replace('-', 0, inplace=True)\n",
        "\n",
        "# Convert relevant columns to numeric types, coercing errors\n",
        "numerical_cols = ['duration', 'orig_bytes', 'resp_bytes', 'missed_bytes', 'orig_pkts', 'orig_ip_bytes', 'resp_pkts', 'resp_ip_bytes', 'id.orig_p', 'id.resp_p']\n",
        "for col in numerical_cols:\n",
        "    df[col] = pd.to_numeric(df[col], errors='coerce')\n",
        "\n",
        "# Fill any remaining NaN values with 0\n",
        "df.fillna(0, inplace=True)\n",
        "print(\"Data cleaning complete.\")"
      ],
      "metadata": {
        "colab": {
          "base_uri": "https://localhost:8080/"
        },
        "id": "TCMzN6c_THzB",
        "outputId": "e917a599-975d-4f40-d933-7c7f7b44ef2c"
      },
      "execution_count": null,
      "outputs": [
        {
          "output_type": "stream",
          "name": "stdout",
          "text": [
            "\n",
            "--- Cleaning Data ---\n",
            "Data cleaning complete.\n"
          ]
        }
      ]
    },
    {
      "cell_type": "code",
      "source": [
        "print(\"\\n--- Encoding Categorical Features ---\")\n",
        "categorical_cols = ['proto', 'service', 'conn_state', 'history']\n",
        "df_encoded = pd.get_dummies(df, columns=categorical_cols, prefix=categorical_cols)\n",
        "print(\"One-hot encoding complete.\")"
      ],
      "metadata": {
        "colab": {
          "base_uri": "https://localhost:8080/"
        },
        "id": "BkdY1guITdKx",
        "outputId": "be4a8d0a-b124-4e9f-bf4c-d5a9f3eefbf7"
      },
      "execution_count": null,
      "outputs": [
        {
          "output_type": "stream",
          "name": "stdout",
          "text": [
            "\n",
            "--- Encoding Categorical Features ---\n",
            "One-hot encoding complete.\n"
          ]
        }
      ]
    },
    {
      "cell_type": "code",
      "source": [
        "print(df_encoded.columns.tolist())"
      ],
      "metadata": {
        "colab": {
          "base_uri": "https://localhost:8080/"
        },
        "id": "vPzebFjQcM5W",
        "outputId": "c1b0e97f-72f6-4c50-d7d2-127ec00b73d9"
      },
      "execution_count": null,
      "outputs": [
        {
          "output_type": "stream",
          "name": "stdout",
          "text": [
            "['ts', 'uid', 'id.orig_h', 'id.orig_p', 'id.resp_h', 'id.resp_p', 'duration', 'orig_bytes', 'resp_bytes', 'local_orig', 'local_resp', 'missed_bytes', 'orig_pkts', 'orig_ip_bytes', 'resp_pkts', 'resp_ip_bytes', 'tunnel_parents', 'label', 'detailed-label', 'proto_0', 'proto_icmp', 'proto_proto', 'proto_tcp', 'proto_udp', 'service_0', 'service_http', 'service_service', 'conn_state_0', 'conn_state_OTH', 'conn_state_REJ', 'conn_state_RSTO', 'conn_state_RSTOS0', 'conn_state_RSTR', 'conn_state_RSTRH', 'conn_state_S0', 'conn_state_S1', 'conn_state_S2', 'conn_state_SF', 'conn_state_conn_state', 'history_0', 'history_D', 'history_D^', 'history_Dd', 'history_R', 'history_S', 'history_SaR', 'history_ShA', 'history_ShADF', 'history_ShADFadfRR', 'history_ShADFr', 'history_ShADaF', 'history_ShADadR', 'history_ShADadRf', 'history_ShADadfF', 'history_ShADadfR', 'history_ShADafF', 'history_ShADafr', 'history_ShADarfF', 'history_ShADdafR', 'history_ShADdfFa', 'history_ShADr', 'history_ShADrfR', 'history_ShAF', 'history_ShAFa', 'history_ShAFf', 'history_ShAFr', 'history_ShAdDaF', 'history_ShAdDaFRf', 'history_ShAdDaFf', 'history_ShAdDaFr', 'history_ShAdDaFrR', 'history_ShAdDaTF', 'history_ShAdDaTFf', 'history_ShAdDafF', 'history_ShAdDafFr', 'history_ShAdDafrR', 'history_ShAdDatFf', 'history_ShAdDatFr', 'history_ShAdDatFrR', 'history_ShAdDatfF', 'history_ShAdDfFr', 'history_ShAdDtafF', 'history_ShAdF', 'history_ShAdaFr', 'history_ShAdfFa', 'history_ShAdtDaFr', 'history_ShAdtDaFrR', 'history_ShAfFa', 'history_ShAr', 'history_Sr', 'history_^r', 'history_history']\n"
          ]
        }
      ]
    },
    {
      "cell_type": "code",
      "source": [
        "# Goal: Have a clean, fully numerical feature matrix `X` and a target vector `y`\n",
        "# Separate features (X) and target (y)\n",
        "\n",
        "# Filter out rows where 'label' is not 'Benign' or 'Malicious'\n",
        "df_filtered = df_encoded[df_encoded['label'].isin(['Benign', 'Malicious'])].copy()\n",
        "\n",
        "X = df_filtered.drop(columns=['ts', 'uid', 'id.orig_h', 'id.resp_h', 'label', 'detailed-label','tunnel_parents','id.orig_p', 'id.resp_p'])\n",
        "# Extract the target variable 'label' as a pandas Series\n",
        "y_text = df_filtered['label']\n",
        "le = LabelEncoder()\n",
        "y = le.fit_transform(y_text)"
      ],
      "metadata": {
        "id": "M5fo-r8NTfBx"
      },
      "execution_count": null,
      "outputs": []
    },
    {
      "cell_type": "code",
      "source": [
        "print(X.columns.tolist())"
      ],
      "metadata": {
        "colab": {
          "base_uri": "https://localhost:8080/"
        },
        "id": "VTEAm-3Tnz5g",
        "outputId": "5bff0ca7-0ec8-4ceb-e746-51af03bc20b3"
      },
      "execution_count": null,
      "outputs": [
        {
          "output_type": "stream",
          "name": "stdout",
          "text": [
            "['duration', 'orig_bytes', 'resp_bytes', 'local_orig', 'local_resp', 'missed_bytes', 'orig_pkts', 'orig_ip_bytes', 'resp_pkts', 'resp_ip_bytes', 'proto_0', 'proto_icmp', 'proto_proto', 'proto_tcp', 'proto_udp', 'service_0', 'service_http', 'service_service', 'conn_state_0', 'conn_state_OTH', 'conn_state_REJ', 'conn_state_RSTO', 'conn_state_RSTOS0', 'conn_state_RSTR', 'conn_state_RSTRH', 'conn_state_S0', 'conn_state_S1', 'conn_state_S2', 'conn_state_SF', 'conn_state_conn_state', 'history_0', 'history_D', 'history_D^', 'history_Dd', 'history_R', 'history_S', 'history_SaR', 'history_ShA', 'history_ShADF', 'history_ShADFadfRR', 'history_ShADFr', 'history_ShADaF', 'history_ShADadR', 'history_ShADadRf', 'history_ShADadfF', 'history_ShADadfR', 'history_ShADafF', 'history_ShADafr', 'history_ShADarfF', 'history_ShADdafR', 'history_ShADdfFa', 'history_ShADr', 'history_ShADrfR', 'history_ShAF', 'history_ShAFa', 'history_ShAFf', 'history_ShAFr', 'history_ShAdDaF', 'history_ShAdDaFRf', 'history_ShAdDaFf', 'history_ShAdDaFr', 'history_ShAdDaFrR', 'history_ShAdDaTF', 'history_ShAdDaTFf', 'history_ShAdDafF', 'history_ShAdDafFr', 'history_ShAdDafrR', 'history_ShAdDatFf', 'history_ShAdDatFr', 'history_ShAdDatFrR', 'history_ShAdDatfF', 'history_ShAdDfFr', 'history_ShAdDtafF', 'history_ShAdF', 'history_ShAdaFr', 'history_ShAdfFa', 'history_ShAdtDaFr', 'history_ShAdtDaFrR', 'history_ShAfFa', 'history_ShAr', 'history_Sr', 'history_^r', 'history_history']\n"
          ]
        }
      ]
    },
    {
      "cell_type": "code",
      "source": [
        "print(\"--- Starting Feature Engineering Steps ---\")\n",
        "\n",
        "# --- Step 2: Isolate Numerical Features & Create the 1D-Gaussian Filter ---\n",
        "\n",
        "# Action: Isolate the original numerical feature columns from the full feature matrix 'X'\n",
        "# These are the columns that existed before one-hot encoding.\n",
        "original_numerical_cols = ['duration', 'orig_bytes', 'resp_bytes', 'orig_pkts', 'orig_ip_bytes', 'resp_pkts', 'resp_ip_bytes']\n",
        "\n",
        "# Ensure only columns that actually exist in X are selected\n",
        "existing_numerical_cols = [col for col in original_numerical_cols if col in X.columns]\n",
        "X_numerical = X[existing_numerical_cols]\n",
        "print(f\"Isolated numerical features. Shape: {X_numerical.shape}\")\n"
      ],
      "metadata": {
        "colab": {
          "base_uri": "https://localhost:8080/"
        },
        "id": "ZgvutdQThzqo",
        "outputId": "35e21e89-1604-44a3-af8f-c4a4e08cd1c0"
      },
      "execution_count": null,
      "outputs": [
        {
          "output_type": "stream",
          "name": "stdout",
          "text": [
            "--- Starting Feature Engineering Steps ---\n",
            "Isolated numerical features. Shape: (257862, 7)\n"
          ]
        }
      ]
    },
    {
      "cell_type": "code",
      "source": [
        "# Action: Define the 1D-Gaussian filter kernel from the paper\n",
        "gaussian_filter = np.array([1, 4, 7, 4, 1])\n",
        "print(f\"\\nDefined 1D-Gaussian filter: {gaussian_filter}\")"
      ],
      "metadata": {
        "colab": {
          "base_uri": "https://localhost:8080/"
        },
        "id": "Nn27GnejpcSo",
        "outputId": "a7fa0db9-7b1e-4881-c5c4-101f8a2863a3"
      },
      "execution_count": null,
      "outputs": [
        {
          "output_type": "stream",
          "name": "stdout",
          "text": [
            "\n",
            "Defined 1D-Gaussian filter: [1 4 7 4 1]\n"
          ]
        }
      ]
    },
    {
      "cell_type": "code",
      "source": [
        "X_masked = convolve1d(X_numerical.values, weights=gaussian_filter, axis=1, mode='constant', cval=0.0)\n",
        "print(\"\\nApplied filter to numerical data to create masked features.\")"
      ],
      "metadata": {
        "colab": {
          "base_uri": "https://localhost:8080/"
        },
        "id": "LUler-poqCLA",
        "outputId": "b79479f2-8739-49f1-b6ce-fe9ce94d21f1"
      },
      "execution_count": null,
      "outputs": [
        {
          "output_type": "stream",
          "name": "stdout",
          "text": [
            "\n",
            "Applied filter to numerical data to create masked features.\n"
          ]
        }
      ]
    },
    {
      "cell_type": "code",
      "source": [
        "masked_feature_names = [f\"{col}_masked\" for col in existing_numerical_cols]\n",
        "X_masked_df = pd.DataFrame(X_masked, index=X.index, columns=masked_feature_names)"
      ],
      "metadata": {
        "id": "0CVDT7ohqjiw"
      },
      "execution_count": null,
      "outputs": []
    },
    {
      "cell_type": "code",
      "source": [
        "X_combined = pd.concat([X, X_masked_df], axis=1)\n",
        "print(\"\\nCombined original and masked features.\")"
      ],
      "metadata": {
        "colab": {
          "base_uri": "https://localhost:8080/"
        },
        "id": "mIckiG_lqlyg",
        "outputId": "7f2e72b4-61db-49f0-923d-3285b4c0ee0c"
      },
      "execution_count": null,
      "outputs": [
        {
          "output_type": "stream",
          "name": "stdout",
          "text": [
            "\n",
            "Combined original and masked features.\n"
          ]
        }
      ]
    },
    {
      "cell_type": "code",
      "source": [
        "print(X_combined.columns.to_list())"
      ],
      "metadata": {
        "colab": {
          "base_uri": "https://localhost:8080/"
        },
        "id": "Lwo7vJgmqo8Y",
        "outputId": "c77bd7e1-92ba-4343-8108-532684809768"
      },
      "execution_count": null,
      "outputs": [
        {
          "output_type": "stream",
          "name": "stdout",
          "text": [
            "['duration', 'orig_bytes', 'resp_bytes', 'local_orig', 'local_resp', 'missed_bytes', 'orig_pkts', 'orig_ip_bytes', 'resp_pkts', 'resp_ip_bytes', 'proto_0', 'proto_icmp', 'proto_proto', 'proto_tcp', 'proto_udp', 'service_0', 'service_http', 'service_service', 'conn_state_0', 'conn_state_OTH', 'conn_state_REJ', 'conn_state_RSTO', 'conn_state_RSTOS0', 'conn_state_RSTR', 'conn_state_RSTRH', 'conn_state_S0', 'conn_state_S1', 'conn_state_S2', 'conn_state_SF', 'conn_state_conn_state', 'history_0', 'history_D', 'history_D^', 'history_Dd', 'history_R', 'history_S', 'history_SaR', 'history_ShA', 'history_ShADF', 'history_ShADFadfRR', 'history_ShADFr', 'history_ShADaF', 'history_ShADadR', 'history_ShADadRf', 'history_ShADadfF', 'history_ShADadfR', 'history_ShADafF', 'history_ShADafr', 'history_ShADarfF', 'history_ShADdafR', 'history_ShADdfFa', 'history_ShADr', 'history_ShADrfR', 'history_ShAF', 'history_ShAFa', 'history_ShAFf', 'history_ShAFr', 'history_ShAdDaF', 'history_ShAdDaFRf', 'history_ShAdDaFf', 'history_ShAdDaFr', 'history_ShAdDaFrR', 'history_ShAdDaTF', 'history_ShAdDaTFf', 'history_ShAdDafF', 'history_ShAdDafFr', 'history_ShAdDafrR', 'history_ShAdDatFf', 'history_ShAdDatFr', 'history_ShAdDatFrR', 'history_ShAdDatfF', 'history_ShAdDfFr', 'history_ShAdDtafF', 'history_ShAdF', 'history_ShAdaFr', 'history_ShAdfFa', 'history_ShAdtDaFr', 'history_ShAdtDaFrR', 'history_ShAfFa', 'history_ShAr', 'history_Sr', 'history_^r', 'history_history', 'duration_masked', 'orig_bytes_masked', 'resp_bytes_masked', 'orig_pkts_masked', 'orig_ip_bytes_masked', 'resp_pkts_masked', 'resp_ip_bytes_masked']\n"
          ]
        }
      ]
    },
    {
      "cell_type": "code",
      "source": [
        "#---- training and testing-------"
      ],
      "metadata": {
        "id": "JTCsqdMus1kQ"
      },
      "execution_count": null,
      "outputs": []
    },
    {
      "cell_type": "code",
      "source": [
        "X_train_comb, X_test_comb, y_train, y_test = train_test_split(\n",
        "    X_combined, y, test_size=0.3, random_state=42, stratify=y\n",
        ")"
      ],
      "metadata": {
        "id": "7gwUYUugs0tB"
      },
      "execution_count": null,
      "outputs": []
    },
    {
      "cell_type": "code",
      "source": [
        "dt_classifier_comb = DecisionTreeClassifier(random_state=42)\n",
        "dt_classifier_comb.fit(X_train_comb, y_train)\n",
        "print(\"Decision Tree model trained.\")"
      ],
      "metadata": {
        "colab": {
          "base_uri": "https://localhost:8080/"
        },
        "id": "bKSq-IhDs7LJ",
        "outputId": "407ead92-4f3c-4ec7-e97f-472ff472adae"
      },
      "execution_count": null,
      "outputs": [
        {
          "output_type": "stream",
          "name": "stdout",
          "text": [
            "Decision Tree model trained.\n"
          ]
        }
      ]
    },
    {
      "cell_type": "code",
      "source": [
        "# Action: Evaluate the model\n",
        "y_pred_comb = dt_classifier_comb.predict(X_test_comb)\n",
        "print(\"\\n--- Evaluation for Model with Combined Features ---\")\n",
        "accuracy_comb = accuracy_score(y_test, y_pred_comb)\n",
        "print(f\"Accuracy: {accuracy_comb:.4f}\")\n",
        "print(\"\\nClassification Report:\")\n",
        "report_comb = classification_report(y_test, y_pred_comb, target_names=['Benign', 'Malicious'])\n",
        "print(report_comb)"
      ],
      "metadata": {
        "colab": {
          "base_uri": "https://localhost:8080/"
        },
        "id": "0DA1OiUKs9fA",
        "outputId": "7acc62b4-3ab3-4277-f43b-25f6b1bab3aa"
      },
      "execution_count": null,
      "outputs": [
        {
          "output_type": "stream",
          "name": "stdout",
          "text": [
            "\n",
            "--- Evaluation for Model with Combined Features ---\n",
            "Accuracy: 0.9543\n",
            "\n",
            "Classification Report:\n",
            "              precision    recall  f1-score   support\n",
            "\n",
            "      Benign       1.00      0.90      0.95     35281\n",
            "   Malicious       0.92      1.00      0.96     42078\n",
            "\n",
            "    accuracy                           0.95     77359\n",
            "   macro avg       0.96      0.95      0.95     77359\n",
            "weighted avg       0.96      0.95      0.95     77359\n",
            "\n"
          ]
        }
      ]
    },
    {
      "cell_type": "code",
      "source": [
        "print(\"\\nDisplaying Confusion Matrix...\")\n",
        "cm = confusion_matrix(y_test, y_pred_comb)\n",
        "plt.figure(figsize=(8, 6))\n",
        "sns.heatmap(cm, annot=True, fmt='d', cmap='Blues', xticklabels=['Benign', 'Malicious'], yticklabels=['Benign', 'Malicious'])\n",
        "plt.title('Confusion Matrix - Model (Combined Features)')\n",
        "plt.xlabel('Predicted')\n",
        "plt.ylabel('Actual')\n",
        "plt.show()"
      ],
      "metadata": {
        "colab": {
          "base_uri": "https://localhost:8080/",
          "height": 569
        },
        "id": "OOHUkLQ3tBTx",
        "outputId": "ce738369-3c07-4a6a-ea55-589c411163d1"
      },
      "execution_count": null,
      "outputs": [
        {
          "output_type": "stream",
          "name": "stdout",
          "text": [
            "\n",
            "Displaying Confusion Matrix...\n"
          ]
        },
        {
          "output_type": "display_data",
          "data": {
            "text/plain": [
              "<Figure size 800x600 with 2 Axes>"
            ],
            "image/png": "[encoded data removed]"
          },
          "metadata": {}
        }
      ]
    },
    {
      "cell_type": "code",
      "source": [
        "model_filename = 'decision_tree_model.joblib'\n",
        "joblib.dump(dt_classifier_comb, model_filename)\n",
        "joblib.dump(X_combined.columns, 'model_columns.joblib')\n",
        "print(f\"Model saved to {model_filename}\")"
      ],
      "metadata": {
        "id": "6fBKNmDM4abq",
        "colab": {
          "base_uri": "https://localhost:8080/"
        },
        "outputId": "cdf2c9e4-2baf-4bc8-867d-fd96943b87d2"
      },
      "execution_count": null,
      "outputs": [
        {
          "output_type": "stream",
          "name": "stdout",
          "text": [
            "Model saved to decision_tree_model.joblib\n"
          ]
        }
      ]
    },
    {
      "cell_type": "code",
      "source": [],
      "metadata": {
        "id": "x_aH4mMkwYJ_"
      },
      "execution_count": null,
      "outputs": []
    },
    {
      "cell_type": "code",
      "source": [
        "# # Random Forest instead of Decision Tree\n",
        "# rf_classifier_comb = RandomForestClassifier(\n",
        "#     n_estimators=100,        # number of trees in the forest (default=100)\n",
        "#     random_state=42,\n",
        "#     n_jobs=-1                # use all CPU cores for speed\n",
        "# )\n",
        "\n",
        "# # Train the model\n",
        "# rf_classifier_comb.fit(X_train_comb, y_train)\n",
        "\n",
        "# print(\"Random Forest model trained.\")"
      ],
      "metadata": {
        "id": "PBnQyj0zconr"
      },
      "execution_count": null,
      "outputs": []
    },
    {
      "cell_type": "code",
      "source": [
        "# # Action: Evaluate the model\n",
        "# y_pred_comb = rf_classifier_comb.predict(X_test_comb)\n",
        "# print(\"\\n--- Evaluation for Model with Combined Features ---\")\n",
        "# accuracy_comb = accuracy_score(y_test, y_pred_comb)\n",
        "# print(f\"Accuracy: {accuracy_comb:.4f}\")\n",
        "# print(\"\\nClassification Report:\")\n",
        "# report_comb = classification_report(y_test, y_pred_comb, target_names=['Benign', 'Malicious'])\n",
        "# print(report_comb)"
      ],
      "metadata": {
        "id": "VvrgxmE_iFsx"
      },
      "execution_count": null,
      "outputs": []
    },
    {
      "cell_type": "code",
      "source": [
        "# print(\"\\nDisplaying Confusion Matrix...\")\n",
        "# cm = confusion_matrix(y_test, y_pred_comb)\n",
        "# plt.figure(figsize=(8, 6))\n",
        "# sns.heatmap(cm, annot=True, fmt='d', cmap='Blues', xticklabels=['Benign', 'Malicious'], yticklabels=['Benign', 'Malicious'])\n",
        "# plt.title('Confusion Matrix - Model (Combined Features)')\n",
        "# plt.xlabel('Predicted')\n",
        "# plt.ylabel('Actual')\n",
        "# plt.show()"
      ],
      "metadata": {
        "id": "jNgFaxKtiOla"
      },
      "execution_count": null,
      "outputs": []
    },
    {
      "cell_type": "code",
      "source": [
        "# print(\"\\n--- Evaluating Original Models with 5-Fold Cross-Validation ---\")\n",
        "\n",
        "# # Original Decision Tree\n",
        "# dt_original = DecisionTreeClassifier(random_state=42)\n",
        "# cv_scores_dt = cross_val_score(dt_original, X_combined, y, cv=5)\n",
        "# print(f\"Original Decision Tree CV Accuracy Scores: {cv_scores_dt}\")\n",
        "# print(f\"Original Decision Tree CV Average Accuracy: {np.mean(cv_scores_dt):.4f}\")\n",
        "\n",
        "# # Original Random Forest\n",
        "# rf_original = RandomForestClassifier(random_state=42, n_jobs=-1)\n",
        "# cv_scores_rf = cross_val_score(rf_original, X_combined, y, cv=5)\n",
        "# print(f\"\\nOriginal Random Forest CV Accuracy Scores: {cv_scores_rf}\")\n",
        "# print(f\"Original Random Forest CV Average Accuracy: {np.mean(cv_scores_rf):.4f}\")\n",
        "\n",
        "\n"
      ],
      "metadata": {
        "id": "hLoEl4OQkf36"
      },
      "execution_count": null,
      "outputs": []
    },
    {
      "cell_type": "code",
      "source": [
        "# print(\"\\n\\n--- Training and Evaluating a PRUNED Decision Tree ---\")\n",
        "# # We create a new Decision Tree with max_depth=10.\n",
        "# # This prevents the tree from becoming too complex and overfitting.\n",
        "# dt_pruned = DecisionTreeClassifier(max_depth=10, random_state=42)\n",
        "\n",
        "# # Evaluate the pruned model using 5-fold cross-validation\n",
        "# cv_scores_pruned = cross_val_score(dt_pruned, X_combined, y, cv=5)\n",
        "\n",
        "# print(f\"PRUNED Decision Tree CV Accuracy Scores: {cv_scores_pruned}\")\n",
        "# print(f\"PRUNED Decision Tree CV Average Accuracy: {np.mean(cv_scores_pruned):.4f}\")\n",
        "\n",
        "# print(\"\\n--- Analysis ---\")\n",
        "# print(\"The cross-validation scores for the pruned model are likely slightly lower,\")\n",
        "# print(\"but they represent a more realistic and reliable measure of the model's performance on new, unseen data.\")\n",
        "\n",
        "# # You can now choose to save this more robust, pruned model\n",
        "# dt_pruned.fit(X_combined, y) # Train it on all data before saving\n"
      ],
      "metadata": {
        "id": "tbUGPuXZkg1i"
      },
      "execution_count": null,
      "outputs": []
    },
    {
      "cell_type": "code",
      "source": [
        "# y_pred_pruned = dt_pruned.predict(X_test_comb)"
      ],
      "metadata": {
        "id": "6vYdWUJVmgVC"
      },
      "execution_count": null,
      "outputs": []
    },
    {
      "cell_type": "code",
      "source": [
        "# cm_pruned = confusion_matrix(y_test, y_pred_pruned)\n",
        "# plt.figure(figsize=(8, 6))\n",
        "# sns.heatmap(cm_pruned, annot=True, fmt='d', cmap='Greens', xticklabels=['Benign', 'Malicious'], yticklabels=['Benign', 'Malicious'])\n",
        "# plt.title('Confusion Matrix - Pruned Model (max_depth=10)')\n",
        "# plt.xlabel('Predicted')\n",
        "# plt.ylabel('Actual')\n",
        "# plt.show()"
      ],
      "metadata": {
        "id": "nyasj-ExmVsy"
      },
      "execution_count": null,
      "outputs": []
    }
  ]
}